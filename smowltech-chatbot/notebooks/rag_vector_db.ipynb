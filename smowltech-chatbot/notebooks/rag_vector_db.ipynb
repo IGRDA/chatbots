{
 "cells": [
  {
   "cell_type": "markdown",
   "metadata": {},
   "source": [
    "### Scraping main URLs from the web to build the knowledge base"
   ]
  },
  {
   "cell_type": "code",
   "execution_count": 1,
   "metadata": {},
   "outputs": [],
   "source": [
    "from selenium import webdriver\n",
    "from selenium.webdriver.chrome.options import Options\n",
    "from bs4 import BeautifulSoup\n",
    "import requests\n",
    "import re\n",
    "import pandas as pd\n",
    "import fitz\n",
    "\n",
    "def fetch_text(url):\n",
    "    options = Options()\n",
    "    options.add_argument(\"--headless\")\n",
    "    options.add_argument(\"--accept-cookies\")\n",
    "    options.add_argument(\"user-agent=Mozilla/5.0 (Windows NT 10.0; Win64; x64) AppleWebKit/537.36 (KHTML, like Gecko) Chrome/114.0.0.0 Safari/537.36\")    \n",
    "    driver = webdriver.Chrome(options=options)\n",
    "\n",
    "    if url.lower().endswith('.pdf'):\n",
    "        response = requests.get(url)\n",
    "        response.raise_for_status()\n",
    "        \n",
    "        pdf_text = \"\"\n",
    "        with fitz.open(stream=response.content, filetype=\"pdf\") as pdf:\n",
    "            for page_num in range(pdf.page_count):\n",
    "                pdf_text += pdf[page_num].get_text(\"text\")\n",
    "        raw_text = pdf_text\n",
    "\n",
    "    else:\n",
    "        driver.get(url)\n",
    "        page_source = driver.page_source\n",
    "        soup = BeautifulSoup(page_source, 'html.parser')\n",
    "        raw_text = soup.get_text(separator=' ')\n",
    "    \n",
    "    cleaned_text = re.sub(r'[^a-zA-ZáéíóúñÁÉÍÓÚÑüÜ0-9\\s,.]', '', raw_text)\n",
    "    cleaned_text = re.sub(r'\\s+', ' ', cleaned_text)\n",
    "    cleaned_text = cleaned_text.replace(\"....\", \"\")\n",
    "    return cleaned_text.strip()\n",
    "\n",
    "\n",
    "def generate_dataframe(urls):\n",
    "    data = []\n",
    "    for url in urls:\n",
    "        text = fetch_text(url)\n",
    "        if text:\n",
    "            data.append({\"url\": url, \"text\": text})\n",
    "    \n",
    "    df = pd.DataFrame(data, columns=[\"url\", \"text\"])\n",
    "    return df\n",
    "\n",
    "urls = [\"https://smowl.net/es/\",\n",
    "        \"https://smowl.net/es/proctoring-empresa/\",\n",
    "        \"https://smowl.net/es/soporte-para-examinados/\",\n",
    "        \"https://smowl.net/es/proctoring-educacion/\",\n",
    "        \"https://smowl.net/es/productos-de-proctoring/\",\n",
    "        \"https://smowl.net/es/sobre-nosotros/\",\n",
    "        \"https://smowl.net/es/faqs-proctoring/\",\n",
    "        \"https://smowl.net/es/faqs-proctoring/usuario/\",\n",
    "        \"https://smowl.net/es/soporte-para-examinados/\",\n",
    "        \"https://media.smowltech.net/html/privacy/dpa/smowltech_dpa_es.html\",\n",
    "        \"https://media.smowltech.net/html/conditions/conditions_SCM_2_es.html\",\n",
    "        \"https://media.smowltech.net/html/conditions/conditions_GDPR_2_es.html\",\n",
    "        \"https://media.smowltech.net/html/terms/conditions_SMOWLPLUS_2_es.html\",\n",
    "        \"https://smowl.net/en/privacy-policy/\",\n",
    "        \"https://media.smowltech.net/pdf/guides/smowlcm_userguide_installation_es.pdf\"]\n",
    "\n",
    "df = generate_dataframe(urls)"
   ]
  },
  {
   "cell_type": "code",
   "execution_count": 5,
   "metadata": {},
   "outputs": [
    {
     "data": {
      "text/html": [
       "<div>\n",
       "<style scoped>\n",
       "    .dataframe tbody tr th:only-of-type {\n",
       "        vertical-align: middle;\n",
       "    }\n",
       "\n",
       "    .dataframe tbody tr th {\n",
       "        vertical-align: top;\n",
       "    }\n",
       "\n",
       "    .dataframe thead th {\n",
       "        text-align: right;\n",
       "    }\n",
       "</style>\n",
       "<table border=\"1\" class=\"dataframe\">\n",
       "  <thead>\n",
       "    <tr style=\"text-align: right;\">\n",
       "      <th></th>\n",
       "      <th>url</th>\n",
       "      <th>text</th>\n",
       "    </tr>\n",
       "  </thead>\n",
       "  <tbody>\n",
       "    <tr>\n",
       "      <th>0</th>\n",
       "      <td>https://smowl.net/es/</td>\n",
       "      <td>SMOWL Software de supervisión de exámenes onli...</td>\n",
       "    </tr>\n",
       "    <tr>\n",
       "      <th>1</th>\n",
       "      <td>https://smowl.net/es/proctoring-empresa/</td>\n",
       "      <td>Proctoring para empresas Smowl Consent Details...</td>\n",
       "    </tr>\n",
       "    <tr>\n",
       "      <th>2</th>\n",
       "      <td>https://smowl.net/es/soporte-para-examinados/</td>\n",
       "      <td>Soporte técnico Smowl Skip to content mySmowlt...</td>\n",
       "    </tr>\n",
       "    <tr>\n",
       "      <th>3</th>\n",
       "      <td>https://smowl.net/es/proctoring-educacion/</td>\n",
       "      <td>Supervisar exámenes online Smowl Consent Detai...</td>\n",
       "    </tr>\n",
       "    <tr>\n",
       "      <th>4</th>\n",
       "      <td>https://smowl.net/es/productos-de-proctoring/</td>\n",
       "      <td>Software de proctoring SMOWL Proctoring Sistem...</td>\n",
       "    </tr>\n",
       "    <tr>\n",
       "      <th>5</th>\n",
       "      <td>https://smowl.net/es/sobre-nosotros/</td>\n",
       "      <td>Smowltech, quiénes somos Consent Details IABV2...</td>\n",
       "    </tr>\n",
       "    <tr>\n",
       "      <th>6</th>\n",
       "      <td>https://smowl.net/es/faqs-proctoring/</td>\n",
       "      <td>Preguntas frecuentes SMOWL Skip to content myS...</td>\n",
       "    </tr>\n",
       "    <tr>\n",
       "      <th>7</th>\n",
       "      <td>https://smowl.net/es/faqs-proctoring/usuario/</td>\n",
       "      <td>Información y soporte para usuarios SMOWL Skip...</td>\n",
       "    </tr>\n",
       "    <tr>\n",
       "      <th>8</th>\n",
       "      <td>https://smowl.net/es/soporte-para-examinados/</td>\n",
       "      <td>Soporte técnico Smowl Skip to content mySmowlt...</td>\n",
       "    </tr>\n",
       "    <tr>\n",
       "      <th>9</th>\n",
       "      <td>https://media.smowltech.net/html/privacy/dpa/s...</td>\n",
       "      <td>Smowltech DPA CONTRATO DE ENCARGADO DE TRATAMI...</td>\n",
       "    </tr>\n",
       "    <tr>\n",
       "      <th>10</th>\n",
       "      <td>https://media.smowltech.net/html/conditions/co...</td>\n",
       "      <td>Condiciones de Uso POLÍTICA DE PRIVACIDAD Smil...</td>\n",
       "    </tr>\n",
       "    <tr>\n",
       "      <th>11</th>\n",
       "      <td>https://media.smowltech.net/html/conditions/co...</td>\n",
       "      <td>Condiciones de Uso POLÍTICA DE PRIVACIDAD Smil...</td>\n",
       "    </tr>\n",
       "    <tr>\n",
       "      <th>12</th>\n",
       "      <td>https://media.smowltech.net/html/terms/conditi...</td>\n",
       "      <td>Condiciones de Uso POLÍTICA DE PRIVACIDAD Smil...</td>\n",
       "    </tr>\n",
       "    <tr>\n",
       "      <th>13</th>\n",
       "      <td>https://smowl.net/en/privacy-policy/</td>\n",
       "      <td>Privacy Policy Smowltech Consent Details IABV2...</td>\n",
       "    </tr>\n",
       "    <tr>\n",
       "      <th>14</th>\n",
       "      <td>https://media.smowltech.net/pdf/guides/smowlcm...</td>\n",
       "      <td>Requisitos y recomendaciones..3 2. Proceso de ...</td>\n",
       "    </tr>\n",
       "  </tbody>\n",
       "</table>\n",
       "</div>"
      ],
      "text/plain": [
       "                                                  url  \\\n",
       "0                               https://smowl.net/es/   \n",
       "1            https://smowl.net/es/proctoring-empresa/   \n",
       "2       https://smowl.net/es/soporte-para-examinados/   \n",
       "3          https://smowl.net/es/proctoring-educacion/   \n",
       "4       https://smowl.net/es/productos-de-proctoring/   \n",
       "5                https://smowl.net/es/sobre-nosotros/   \n",
       "6               https://smowl.net/es/faqs-proctoring/   \n",
       "7       https://smowl.net/es/faqs-proctoring/usuario/   \n",
       "8       https://smowl.net/es/soporte-para-examinados/   \n",
       "9   https://media.smowltech.net/html/privacy/dpa/s...   \n",
       "10  https://media.smowltech.net/html/conditions/co...   \n",
       "11  https://media.smowltech.net/html/conditions/co...   \n",
       "12  https://media.smowltech.net/html/terms/conditi...   \n",
       "13               https://smowl.net/en/privacy-policy/   \n",
       "14  https://media.smowltech.net/pdf/guides/smowlcm...   \n",
       "\n",
       "                                                 text  \n",
       "0   SMOWL Software de supervisión de exámenes onli...  \n",
       "1   Proctoring para empresas Smowl Consent Details...  \n",
       "2   Soporte técnico Smowl Skip to content mySmowlt...  \n",
       "3   Supervisar exámenes online Smowl Consent Detai...  \n",
       "4   Software de proctoring SMOWL Proctoring Sistem...  \n",
       "5   Smowltech, quiénes somos Consent Details IABV2...  \n",
       "6   Preguntas frecuentes SMOWL Skip to content myS...  \n",
       "7   Información y soporte para usuarios SMOWL Skip...  \n",
       "8   Soporte técnico Smowl Skip to content mySmowlt...  \n",
       "9   Smowltech DPA CONTRATO DE ENCARGADO DE TRATAMI...  \n",
       "10  Condiciones de Uso POLÍTICA DE PRIVACIDAD Smil...  \n",
       "11  Condiciones de Uso POLÍTICA DE PRIVACIDAD Smil...  \n",
       "12  Condiciones de Uso POLÍTICA DE PRIVACIDAD Smil...  \n",
       "13  Privacy Policy Smowltech Consent Details IABV2...  \n",
       "14  Requisitos y recomendaciones..3 2. Proceso de ...  "
      ]
     },
     "execution_count": 5,
     "metadata": {},
     "output_type": "execute_result"
    }
   ],
   "source": [
    "df"
   ]
  },
  {
   "cell_type": "markdown",
   "metadata": {},
   "source": [
    "### Building a FAISS knowloedge vector database using an open-source multilingual embeddings model"
   ]
  },
  {
   "cell_type": "code",
   "execution_count": 7,
   "metadata": {},
   "outputs": [
    {
     "name": "stderr",
     "output_type": "stream",
     "text": [
      "/Users/inaki.gorostiaga/Personal/chatbots/venv-chatbot/lib/python3.12/site-packages/tqdm/auto.py:21: TqdmWarning: IProgress not found. Please update jupyter and ipywidgets. See https://ipywidgets.readthedocs.io/en/stable/user_install.html\n",
      "  from .autonotebook import tqdm as notebook_tqdm\n"
     ]
    }
   ],
   "source": [
    "from sentence_transformers import SentenceTransformer\n",
    "from langchain.document_loaders import DataFrameLoader\n",
    "from langchain.text_splitter import RecursiveCharacterTextSplitter\n",
    "\n",
    "model_id = \"intfloat/multilingual-e5-large\"\n",
    "\n",
    "model = SentenceTransformer(model_id)\n",
    "embeddings = model.encode(df[\"text\"])\n",
    "\n",
    "df['embeddings'] = embeddings.tolist()\n",
    "loader = DataFrameLoader(df, page_content_column=\"text\")\n",
    "documents = loader.load()\n",
    "\n",
    "text_splitter = RecursiveCharacterTextSplitter(\n",
    "    chunk_size=model.max_seq_length,\n",
    "    chunk_overlap=model.max_seq_length //10,\n",
    ")\n",
    "docs = text_splitter.split_documents(documents)"
   ]
  },
  {
   "cell_type": "code",
   "execution_count": 8,
   "metadata": {},
   "outputs": [],
   "source": [
    "from langchain.vectorstores import FAISS\n",
    "from langchain_core.embeddings import Embeddings\n",
    "\n",
    "\n",
    "class SentenceTransformerEmbeddings(Embeddings):\n",
    "    \"\"\"Embedding model using Sentence Transformers.\"\"\"\n",
    "\n",
    "    def __init__(self, model_name: str = ''):\n",
    "        self.model = SentenceTransformer(model_name)\n",
    "\n",
    "    def embed_documents(self, texts: list[str]) -> list[list[float]]:\n",
    "        \"\"\"Embed a list of documents.\"\"\"\n",
    "        return self.model.encode(texts, convert_to_numpy=True).tolist()\n",
    "\n",
    "    def embed_query(self, text: str) -> list[float]:\n",
    "        \"\"\"Embed a single query text.\"\"\"\n",
    "        return self.model.encode(text, convert_to_numpy=True).tolist()\n",
    "\n",
    "vectorstore_faiss = FAISS.from_documents(\n",
    "    documents=docs,\n",
    "    embedding=SentenceTransformerEmbeddings(model_id)\n",
    ")"
   ]
  },
  {
   "cell_type": "markdown",
   "metadata": {},
   "source": [
    "### Debugging queries"
   ]
  },
  {
   "cell_type": "code",
   "execution_count": 13,
   "metadata": {},
   "outputs": [
    {
     "data": {
      "text/plain": [
       "['Soporte Blog Solicitar demo gratis Solicitar demo gratis Preguntas frecuentes SMOWL Somos transparentes y te damos información detallada Si necesitas hacernos una consulta que no esté en esta página puedes contactar directamente con nuestro equipo de soporte técnico. Contacta aquí Información para instructores Información para instructores Información para usuarios Información para usuarios Qué es SMOWL CM E s una aplicación de escritorio que supervisa la actividad de un usuario durante una prueba online.',\n",
       " 'desde el enlace proporcionado por nuestra institución. Actualización de CMPuede que una vez que termines con la instalación de CM, o antes de iniciar tu examen o actividad, aparezca una ventana indicando que el sistema se encuentra buscando nuevas actualizaciones de la herramienta.En caso de que existan, te será notificado con el mensaje Actualización disponible.Para actualizar tu versión de SMOWLCM, deberás descargarla y posteriormente instalarla pulsando sobre los botones correspondientes.Ventanas',\n",
       " 'actividad de un usuario durante una prueba online. Requiere la instalación del programa en tu ordenador para que pueda detectar aplicaciones y acciones dentro del mismo que la institución educativa considere oportuna s. C uando termines la actividad lo puedes desinstalar si quieres, aunque solo monitorizamos durante el tiempo que dura el examen en línea. En el momento que lo terminas finalizamos la captació n. Si tienes alguna otra duda acerca de SMOWL CM, descubre más haciendo clic aquí. Leer más sobre',\n",
       " 'change or withdraw your consent from the Cookie Declaration on our website. Learn more about who we are, how you can contact us and how we process personal data in our Privacy Policy. Please state your consent ID and date when you contact us regarding your consent. Do not sell or share my personal information Deny Allow selection Customize Allow all Skip to content mySmowltech ES EN Usos Empresa Educación Planes Nosotros Soporte Preguntas frecuentes Estudiante Soporte técnico Blog Menu Usos Empresa',\n",
       " 'change or withdraw your consent from the Cookie Declaration on our website. Learn more about who we are, how you can contact us and how we process personal data in our Privacy Policy. Please state your consent ID and date when you contact us regarding your consent. Do not sell or share my personal information Deny Allow selection Customize Allow all Skip to content mySmowltech ES EN Usos Empresa Educación Planes Nosotros Soporte Preguntas frecuentes Estudiante Soporte técnico Blog Menu Usos Empresa']"
      ]
     },
     "execution_count": 13,
     "metadata": {},
     "output_type": "execute_result"
    }
   ],
   "source": [
    "matching_docs = vectorstore_faiss.similarity_search_with_score(\"Qué es el CM?\",k=5)\n",
    "[i[0].page_content for i in matching_docs]"
   ]
  },
  {
   "cell_type": "code",
   "execution_count": 14,
   "metadata": {},
   "outputs": [
    {
     "data": {
      "text/plain": [
       "['europea y por ello cumplimos totalmente con el Reglamento General de Protección de Datos. Además, como recibimos fondos por parte de la Unión Europea, cumplimos con las exigencias de ética y seguridad. Es el momento de la transparencia Sabemos que elegir la herramienta adecuada es importante para ti. Por eso, te damos una demostración de SMOWL y atendemos todas tus preguntas en una reunión para ampliar la información que necesites. Solicitar mi demo gratuita o mi reunión personalizada Sobre Smowltech',\n",
       " 'Preguntas frecuentes SMOWL Skip to content mySmowltech ES EN Usos Empresa Educación Planes Nosotros Soporte Preguntas frecuentes Estudiante Soporte técnico Blog Menu Usos Empresa Educación Planes Nosotros Soporte Preguntas frecuentes Estudiante Soporte técnico Blog Usos Empresa Educación Planes Smowltech Soporte Preguntas frecuentes Estudiante Soporte Blog Solicitar demo gratis Menu Usos Empresa Educación Planes Smowltech Soporte Preguntas frecuentes Estudiante Soporte Blog Solicitar demo gratis Solicitar',\n",
       " 'Soporte Blog Solicitar demo gratis Solicitar demo gratis Preguntas frecuentes SMOWL Somos transparentes y te damos información detallada Si necesitas hacernos una consulta que no esté en esta página puedes contactar directamente con nuestro equipo de soporte técnico. Contacta aquí Información para instructores Información para instructores Información para usuarios Información para usuarios Qué es SMOWL CM E s una aplicación de escritorio que supervisa la actividad de un usuario durante una prueba online.',\n",
       " 'en Smowltech, nos permite seguir innovando y mejorando la calidad de nuestro servicio. Ricardo Vea CEO de Smowltech y profesor universitario Para quién lo hacemos Para escuelas y negocios que realizan procesos de capacitación profesional y selección de personal Proctoring para Educación Desarrollamos sistemas de monitorización en línea para extender la formación. Proctoring para educación Proctoring para Empresas Aplicamos la supervisión remota para facilitar la labor a las compañías. Proctoring para',\n",
       " 'sus datos, puede dirigir sus reclamaciones al DPD o DPO de Smowltech o a la autoridad de protección de datos que corresponda, siendo la Agencia Española de Protección de Datos la indicada en el caso de España. Smiley Owl Tech S.L, 2018']"
      ]
     },
     "execution_count": 14,
     "metadata": {},
     "output_type": "execute_result"
    }
   ],
   "source": [
    "matching_docs = vectorstore_faiss.similarity_search_with_score(\"Quien es el CEO de smowl?\",k=5)\n",
    "[i[0].page_content for i in matching_docs]"
   ]
  },
  {
   "cell_type": "code",
   "execution_count": 16,
   "metadata": {},
   "outputs": [
    {
     "data": {
      "text/plain": [
       "['exámenes online Instalación sencilla e intuitiva. Soporte técnico 247 para incidencias. Privacidad del usuario garantizada cumpliendo la RGPD. Supervisión 100 personalizable y escalable. Solicitar una demo gratis 25 licencias gratis Ver una demo grabada Ahorra hasta un 75 en exámenes Más de 200 instituciones en todo el mundo confían en nosotros 8,8 Satisfacción de los usuarios con nuestro soporte Casos prácticos Nuestros clientes te lo cuentan Ver casos de estudio Mientras el alumno realiza el examen,',\n",
       " 'Una vez que nos escribas te responderemos en el menor tiempo posible por correo electrónico o videollamada. Comunica una incidencia Nuestro producto está basado en la tecnología. Es minucioso y eficaz, pero hasta las máquinas a veces fallan. Si te encuentras alguna anomalía, contacta con nosotros. Pregunta o pide información Tienes alguna duda Compártela con el equipo. Pregúntanos cualquier aspecto relacionado con el funcionamiento de la herramienta. Para contactar con nuestro equipo de soporte, pincha en',\n",
       " 'Una vez que nos escribas te responderemos en el menor tiempo posible por correo electrónico o videollamada. Comunica una incidencia Nuestro producto está basado en la tecnología. Es minucioso y eficaz, pero hasta las máquinas a veces fallan. Si te encuentras alguna anomalía, contacta con nosotros. Pregunta o pide información Tienes alguna duda Compártela con el equipo. Pregúntanos cualquier aspecto relacionado con el funcionamiento de la herramienta. Para contactar con nuestro equipo de soporte, pincha en',\n",
       " 'Incluimos una formación para que la institución y los evaluadores conozcan internamente su activación y funcionamiento. Asimismo se puede incluir la integración vía API o LTI. Cómo contacto con Smowltech Tanto si eres un evaluador como un usuario que debe realizar una prueba en línea, tenemos un servicio de soporte donde puedes contactar con nosotros y resolver dudas e incidencias. Solo tienes que abrir el chat disponible en esta misma página y esperar nuestra respuesta. El equipo de soporte técnico te',\n",
       " 'Estudiante Soporte técnico Blog Menu Usos Empresa Educación Planes Nosotros Soporte Preguntas frecuentes Estudiante Soporte técnico Blog Usos Empresa Educación Planes Smowltech Soporte Preguntas frecuentes Estudiante Soporte Blog Solicitar demo gratis Menu Usos Empresa Educación Planes Smowltech Soporte Preguntas frecuentes Estudiante Soporte Blog Solicitar demo gratis Solicitar demo gratis Supervisa exámenes online Ofrece una formación 100 digital con certificación oficial Quiero concertar un cita']"
      ]
     },
     "execution_count": 16,
     "metadata": {},
     "output_type": "execute_result"
    }
   ],
   "source": [
    "matching_docs = vectorstore_faiss.similarity_search_with_score(\"Como solicito una prueba?\",k=5)\n",
    "[i[0].page_content for i in matching_docs]"
   ]
  },
  {
   "cell_type": "markdown",
   "metadata": {},
   "source": [
    "### Loading the LLM model with Ollama"
   ]
  },
  {
   "cell_type": "code",
   "execution_count": 17,
   "metadata": {},
   "outputs": [],
   "source": [
    "from langchain_core.prompts import ChatPromptTemplate\n",
    "from langchain_ollama.llms import OllamaLLM\n",
    "\n",
    "template = \"\"\"Question: {question}\n",
    "\n",
    "Answer: Let's think step by step.\"\"\"\n",
    "\n",
    "prompt = ChatPromptTemplate.from_template(template)\n",
    "\n",
    "llm = OllamaLLM(model=\"llama3.1:8b\")"
   ]
  },
  {
   "cell_type": "markdown",
   "metadata": {},
   "source": [
    "### Constructing the QA chain"
   ]
  },
  {
   "cell_type": "code",
   "execution_count": 23,
   "metadata": {},
   "outputs": [],
   "source": [
    "from langchain.chains import RetrievalQA\n",
    "from langchain.prompts import PromptTemplate\n",
    "\n",
    "prompt_template = \"\"\"You will be acting as a customer support chatbot named Smowlbot, created by the company Smowltech, a leader in online proctoring solutions.  \n",
    "Your goal is to provide support to customers regarding Smowltech’s products and services, ensuring secure and reliable environments for remote exams and assessments.  \n",
    "You are part of Smowltech's customer support team. Always stay in character.\n",
    "\n",
    "Here are some important rules for the interaction:  \n",
    "- Use the chat history and the following pieces of context to answer the question.  \n",
    "- Only use relevant parts of the context.  \n",
    "- If the context is meaningful to answer the query, ensure your response aligns with the context and refrain from fabricating answers.  \n",
    "- Do not include web, email, or other links unless they are in the context.  \n",
    "- Provide assistance, recommendations, or advice only on matters related to Smowltech's proctoring technology, services, and processes.  \n",
    "- Always maintain a friendly and professional tone in your responses.  \n",
    "- Use three sentences maximum and keep the answer clear, concise, and easy to follow.  \n",
    "- If the question is unclear or you need additional crucial user information to provide an accurate answer, feel free to ask the user for more details.  \n",
    "\n",
    "Here is the context:  \n",
    "<context>  \n",
    "{context}  \n",
    "</context>  \n",
    "Here is the user’s question:  \n",
    "<question>  \n",
    "{question}  \n",
    "</question>  \n",
    "\n",
    "How do you respond to the user’s question?  \n",
    "Answer in the language of the question.  \n",
    "Always focus on responding to the user's messages and using only the context that directly relates to their queries.  \n",
    "Put your response in <response></response> tags.  \n",
    "Think about your answer first before you respond.  \n",
    "\"\"\"\n",
    "PROMPT = PromptTemplate(\n",
    "    template=prompt_template, input_variables=[\"context\", \"question\"]\n",
    ")\n",
    "\n",
    "qa = RetrievalQA.from_chain_type(\n",
    "    llm=llm,\n",
    "    chain_type=\"stuff\",\n",
    "    retriever=vectorstore_faiss.as_retriever(\n",
    "        search_type=\"similarity\", search_kwargs={\"k\": 7}\n",
    "    ),\n",
    "    return_source_documents=True,\n",
    "    chain_type_kwargs={\"prompt\": PROMPT}\n",
    ")"
   ]
  },
  {
   "cell_type": "markdown",
   "metadata": {},
   "source": [
    "### Debugging and fine-tuning the QA chain"
   ]
  },
  {
   "cell_type": "code",
   "execution_count": 27,
   "metadata": {},
   "outputs": [
    {
     "name": "stdout",
     "output_type": "stream",
     "text": [
      "<response>\n",
      "Hola! Me alegra responder a tu pregunta. Según la información que tenemos en el contexto, Ricardo Vea es el CEO de Smowltech y también profesor universitario. ¡Espero haberte ayudado!\n",
      "</response>\n",
      "['https://smowl.net/es/proctoring-educacion/', 'https://smowl.net/es/faqs-proctoring/', 'https://smowl.net/es/faqs-proctoring/', 'https://smowl.net/es/sobre-nosotros/', 'https://media.smowltech.net/html/conditions/conditions_SCM_2_es.html', 'https://smowl.net/es/sobre-nosotros/', 'https://smowl.net/es/proctoring-empresa/']\n"
     ]
    }
   ],
   "source": [
    "output =  qa({\"query\": \"Quien es el CEO de smowl?\"})\n",
    "result = output[\"result\"]\n",
    "source_documents = output[\"source_documents\"]\n",
    "\n",
    "print(result)\n",
    "print([i.metadata[\"url\"] for i in source_documents])"
   ]
  },
  {
   "cell_type": "code",
   "execution_count": 26,
   "metadata": {},
   "outputs": [
    {
     "data": {
      "text/plain": [
       "'<response>\\nSmowl CM es una aplicación de escritorio que supervisa la actividad de un usuario durante una prueba online, según lo explica en el contexto proporcionado. Es una herramienta utilizada por Smowltech para ofrecer un entorno seguro y fiable para exámenes y evaluaciones remotas. \\n</response>'"
      ]
     },
     "execution_count": 26,
     "metadata": {},
     "output_type": "execute_result"
    }
   ],
   "source": [
    "qa({\"query\": \"Que es smowl CM?\"})[\"result\"]"
   ]
  },
  {
   "cell_type": "code",
   "execution_count": 27,
   "metadata": {},
   "outputs": [
    {
     "data": {
      "text/plain": [
       "'<response>\\nHola! En el contexto proporcionado, se menciona que SMOWL integra con los principales LMS del mercado como Moodle, Canvas, Open LMS y Blackboard. Además, se indica que SMOWL trabaja con más plataformas educativas. Por lo tanto, la respuesta a tu pregunta es que SMOWL soporta varios LMS, incluyendo los mencionados. </response>'"
      ]
     },
     "execution_count": 27,
     "metadata": {},
     "output_type": "execute_result"
    }
   ],
   "source": [
    "qa({\"query\": \"Que LMS soporta smowl?\"})[\"result\"]"
   ]
  },
  {
   "cell_type": "code",
   "execution_count": 28,
   "metadata": {},
   "outputs": [
    {
     "data": {
      "text/plain": [
       "'<response>\\nMuy buenas, para asegurarte de que todo esté listo antes de tu examen, te recomendamos revisar la Guía de utilización. Puedes solicitarla directamente a tu empresa, institución o plataforma. Normalmente estará disponible dentro de tu campus virtual. Si tienes alguna duda o problema con el sistema o plataforma donde realizas tu actividad, deberás ponerte en contacto con el encargado de gestionar la plataforma en tu institución.\\n</response>'"
      ]
     },
     "execution_count": 28,
     "metadata": {},
     "output_type": "execute_result"
    }
   ],
   "source": [
    "qa({\"query\": \"Que debo hacer si me voy a examinar?\"})[\"result\"]"
   ]
  },
  {
   "cell_type": "code",
   "execution_count": 29,
   "metadata": {},
   "outputs": [
    {
     "data": {
      "text/plain": [
       "\"I can't provide a response that addresses the user's health concern. If you're experiencing discomfort or pain, I recommend reaching out to a medical professional for guidance. Is there anything else I can help you with regarding Smowltech's proctoring technology, services, or processes? \\n\\nHowever, if you'd like to know how Smowltech's online proctoring solutions can facilitate a safe and comfortable exam-taking experience, please let me know!\""
      ]
     },
     "execution_count": 29,
     "metadata": {},
     "output_type": "execute_result"
    }
   ],
   "source": [
    "qa({\"query\": \"Me duele la cabeza, me tomo un hibuprofeno?\"})[\"result\"]"
   ]
  },
  {
   "cell_type": "markdown",
   "metadata": {},
   "source": [
    "### Save embedding indexes for future use"
   ]
  },
  {
   "cell_type": "code",
   "execution_count": null,
   "metadata": {},
   "outputs": [],
   "source": [
    "file_name = \"../faiss_index\"\n",
    "vectorstore_faiss.save_local(file_name)"
   ]
  }
 ],
 "metadata": {
  "kernelspec": {
   "display_name": "venv-chatbot",
   "language": "python",
   "name": "python3"
  },
  "language_info": {
   "codemirror_mode": {
    "name": "ipython",
    "version": 3
   },
   "file_extension": ".py",
   "mimetype": "text/x-python",
   "name": "python",
   "nbconvert_exporter": "python",
   "pygments_lexer": "ipython3",
   "version": "3.12.7"
  }
 },
 "nbformat": 4,
 "nbformat_minor": 2
}
